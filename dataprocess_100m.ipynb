{
 "cells": [
  {
   "cell_type": "code",
   "execution_count": 1,
   "id": "a6ceb1eb-3b74-4eb3-82ca-0d34e0269496",
   "metadata": {},
   "outputs": [],
   "source": [
    "%load_ext autoreload\n",
    "%autoreload 2"
   ]
  },
  {
   "cell_type": "code",
   "execution_count": 2,
   "id": "f47897a5",
   "metadata": {},
   "outputs": [],
   "source": [
    "import numpy as np\n",
    "import torch\n",
    "import pickle\n",
    "from tqdm import tqdm"
   ]
  },
  {
   "cell_type": "code",
   "execution_count": 3,
   "id": "2ee47f99",
   "metadata": {},
   "outputs": [],
   "source": [
    "from data.data_preparation import check_consistence, load_data, graph_preprocess, get_partitions"
   ]
  },
  {
   "cell_type": "code",
   "execution_count": 4,
   "id": "9ac08b02",
   "metadata": {},
   "outputs": [],
   "source": [
    "with open('/nfs/students/qian/papers100m_splits.pkl', 'rb') as handle:\n",
    "    (train_indices, val_indices, test_indices) = pickle.load(handle)"
   ]
  },
  {
   "cell_type": "code",
   "execution_count": 5,
   "id": "76f5177c",
   "metadata": {},
   "outputs": [],
   "source": [
    "adj_t = torch.load('/nfs/students/qian/data/papers100m/adj.pt')"
   ]
  },
  {
   "cell_type": "code",
   "execution_count": 6,
   "id": "f3a4f069",
   "metadata": {},
   "outputs": [],
   "source": [
    "scipy_adj = adj_t.to_scipy('csr')\n",
    "adj_t = None"
   ]
  },
  {
   "cell_type": "markdown",
   "id": "6d9429fc",
   "metadata": {},
   "source": [
    "# val"
   ]
  },
  {
   "cell_type": "code",
   "execution_count": 9,
   "id": "b0bc38ec-9d87-4791-bfc8-efee7fa401a5",
   "metadata": {},
   "outputs": [],
   "source": [
    "import time\n",
    "from neighboring.pernode_ppr_neighbor import topk_ppr_matrix\n"
   ]
  },
  {
   "cell_type": "code",
   "execution_count": null,
   "id": "79afeb1d",
   "metadata": {},
   "outputs": [],
   "source": [
    "\n",
    "s = time.time()\n",
    "\n",
    "eps = 2e-5\n",
    "ppr_mat, neighbors = topk_ppr_matrix(scipy_adj, 0.05, eps, val_indices[:100], topk=128, normalization='sym')\n",
    "\n",
    "print(time.time() - s)\n",
    "# with open('/nfs/students/qian/papers100m_val_pprmat.pkl', 'rb') as handle:\n",
    "#     ppr_mat = pickle.load(handle)"
   ]
  },
  {
   "cell_type": "code",
   "execution_count": null,
   "id": "967e207f-a0fc-4e7e-9dd7-4e84d8e79c19",
   "metadata": {},
   "outputs": [],
   "source": [
    "ppr_mat"
   ]
  },
  {
   "cell_type": "code",
   "execution_count": null,
   "id": "621fc0be-31f1-4cc6-901f-078ef88bde11",
   "metadata": {},
   "outputs": [],
   "source": []
  },
  {
   "cell_type": "code",
   "execution_count": null,
   "id": "d977af63-0418-48de-9bbc-e2174bac6ee7",
   "metadata": {},
   "outputs": [],
   "source": [
    "from batching.loader_prime_orient_ppr import ppr_fixed_loader as prime_ppr_loader"
   ]
  },
  {
   "cell_type": "code",
   "execution_count": null,
   "id": "03ec044a-f0b4-4a81-a7ec-f15617bffc5a",
   "metadata": {},
   "outputs": [],
   "source": [
    "s = time.time()\n",
    "\n",
    "val_loader = prime_ppr_loader(ppr_mat[:, val_indices], \n",
    "                                     val_indices, \n",
    "                                     neighbors, \n",
    "                                     10000)\n",
    "\n",
    "print(time.time() - s)"
   ]
  },
  {
   "cell_type": "code",
   "execution_count": null,
   "id": "1bb88638-a248-4e00-8dec-d693c30b46d2",
   "metadata": {},
   "outputs": [],
   "source": []
  },
  {
   "cell_type": "markdown",
   "id": "6e01a430",
   "metadata": {},
   "source": [
    "# test"
   ]
  },
  {
   "cell_type": "code",
   "execution_count": null,
   "id": "a53657c2-d576-4e2a-9a56-f3f76e3d7216",
   "metadata": {},
   "outputs": [],
   "source": []
  },
  {
   "cell_type": "code",
   "execution_count": null,
   "id": "493ba566",
   "metadata": {},
   "outputs": [],
   "source": [
    "s = time.time()\n",
    "\n",
    "eps = 1e-4\n",
    "test_mat, test_nei = topk_ppr_matrix(scipy_adj, 0.05, eps, test_indices, topk=32, normalization='sym')\n",
    "\n",
    "print(time.time() - s)\n",
    "\n",
    "# with open('/nfs/students/qian/papers100m_test_pprmat.pkl', 'rb') as handle:\n",
    "#     ppr_mat = pickle.load(handle)"
   ]
  },
  {
   "cell_type": "code",
   "execution_count": null,
   "id": "86a97bb4-c5a6-4abf-a76c-507e99581a47",
   "metadata": {},
   "outputs": [],
   "source": [
    "test_mat"
   ]
  },
  {
   "cell_type": "code",
   "execution_count": null,
   "id": "527e7265-c411-4578-8d67-08890f6c80be",
   "metadata": {},
   "outputs": [],
   "source": [
    "s = time.time()\n",
    "\n",
    "test_loader = prime_ppr_loader(test_mat[:, test_indices], \n",
    "                                     test_indices, \n",
    "                                     test_nei, \n",
    "                                     10000)\n",
    "\n",
    "print(time.time() - s)"
   ]
  },
  {
   "cell_type": "code",
   "execution_count": null,
   "id": "0c94bd44-8ebf-4ead-8041-a1bf06abb800",
   "metadata": {},
   "outputs": [],
   "source": []
  },
  {
   "cell_type": "markdown",
   "id": "14f54eb8",
   "metadata": {},
   "source": [
    "# train"
   ]
  },
  {
   "cell_type": "code",
   "execution_count": 7,
   "id": "0ecfae16-c4a4-4fd8-b8f2-ca6a3d27b0d4",
   "metadata": {},
   "outputs": [],
   "source": [
    "mask = np.random.randint(low=0, high=len(train_indices), size=300)"
   ]
  },
  {
   "cell_type": "code",
   "execution_count": 11,
   "id": "5e2fa369",
   "metadata": {},
   "outputs": [
    {
     "name": "stdout",
     "output_type": "stream",
     "text": [
      "161.02235460281372\n"
     ]
    }
   ],
   "source": [
    "s = time.time()\n",
    "\n",
    "eps = 2e-5\n",
    "train_mat, train_neighbors = topk_ppr_matrix(scipy_adj, 0.05, eps, train_indices[mask], topk=128, normalization='sym')\n",
    "\n",
    "print(time.time() - s)\n",
    "# with open('/nfs/students/qian/papers100m_train_pprmat.pkl', 'rb') as handle:\n",
    "#     ppr_mat = pickle.load(handle)"
   ]
  },
  {
   "cell_type": "code",
   "execution_count": 12,
   "id": "488ca833-0fa3-422a-956a-a0547ecb036e",
   "metadata": {},
   "outputs": [
    {
     "data": {
      "text/plain": [
       "<300x111059956 sparse matrix of type '<class 'numpy.float32'>'\n",
       "\twith 37952 stored elements in Compressed Sparse Row format>"
      ]
     },
     "execution_count": 12,
     "metadata": {},
     "output_type": "execute_result"
    }
   ],
   "source": [
    "train_mat"
   ]
  },
  {
   "cell_type": "code",
   "execution_count": 13,
   "id": "b95bc0b4-2326-49d8-bfaa-8ff65eaafcc4",
   "metadata": {},
   "outputs": [
    {
     "data": {
      "text/plain": [
       "126.50666666666666"
      ]
     },
     "execution_count": 13,
     "metadata": {},
     "output_type": "execute_result"
    }
   ],
   "source": [
    "37952 / 300"
   ]
  },
  {
   "cell_type": "code",
   "execution_count": null,
   "id": "03945a0d-e2a0-4303-b5bc-11b8db012ca5",
   "metadata": {},
   "outputs": [],
   "source": []
  },
  {
   "cell_type": "code",
   "execution_count": null,
   "id": "7ae480de-38a6-4476-88c6-625328abe589",
   "metadata": {},
   "outputs": [],
   "source": [
    "s = time.time()\n",
    "\n",
    "train_loader = prime_ppr_loader(train_mat[:, train_indices], \n",
    "                                     train_indices, \n",
    "                                     train_neighbors, \n",
    "                                     5000)\n",
    "\n",
    "print(time.time() - s)"
   ]
  },
  {
   "cell_type": "code",
   "execution_count": null,
   "id": "0b668797-479a-47cf-9d9f-b5ac7865b1ea",
   "metadata": {},
   "outputs": [],
   "source": []
  },
  {
   "cell_type": "code",
   "execution_count": null,
   "id": "33e1046e-1117-406a-8066-06593ea1e3c8",
   "metadata": {},
   "outputs": [],
   "source": [
    "711.860222 + \\\n",
    "78.45057272911072 +  1.3239221572875977 + \\\n",
    "88.06589150428772 + 2.0748612880706787 + \\\n",
    "268.18696808815 + 12.744482040405273"
   ]
  },
  {
   "cell_type": "code",
   "execution_count": null,
   "id": "dff1df88-7c7c-444d-bced-4dec9534bbd2",
   "metadata": {},
   "outputs": [],
   "source": []
  },
  {
   "cell_type": "code",
   "execution_count": null,
   "id": "034be81f-be9d-4c49-abd2-fa1278e04f7d",
   "metadata": {},
   "outputs": [],
   "source": [
    "ps = []\n",
    "for p, n in train_loader:\n",
    "    print(len(p), len(n))\n",
    "    ps.append(p)"
   ]
  },
  {
   "cell_type": "code",
   "execution_count": null,
   "id": "f9d41bc4-03ad-4f09-9a58-116b6046ba33",
   "metadata": {},
   "outputs": [],
   "source": [
    "ps = np.concatenate(ps)"
   ]
  },
  {
   "cell_type": "code",
   "execution_count": null,
   "id": "e974a281-d607-4130-a850-1acac4926fbb",
   "metadata": {},
   "outputs": [],
   "source": [
    "len(ps) == len(train_indices)"
   ]
  },
  {
   "cell_type": "code",
   "execution_count": null,
   "id": "47cc49c8-e73a-47fc-9475-cb632d863cc3",
   "metadata": {},
   "outputs": [],
   "source": [
    "set(ps) == set(train_indices)"
   ]
  },
  {
   "cell_type": "code",
   "execution_count": null,
   "id": "4fb6112b-1082-46a3-bf33-f00935bf6583",
   "metadata": {},
   "outputs": [],
   "source": []
  },
  {
   "cell_type": "code",
   "execution_count": null,
   "id": "41514677",
   "metadata": {},
   "outputs": [],
   "source": [
    "from scipy.sparse import find"
   ]
  },
  {
   "cell_type": "code",
   "execution_count": null,
   "id": "29d18616",
   "metadata": {},
   "outputs": [],
   "source": [
    "row, col, val = find(ppr_mat)"
   ]
  },
  {
   "cell_type": "code",
   "execution_count": null,
   "id": "2a476370",
   "metadata": {},
   "outputs": [],
   "source": [
    "_row = torch.sort(torch.from_numpy(row)).values"
   ]
  },
  {
   "cell_type": "code",
   "execution_count": null,
   "id": "889d0344",
   "metadata": {},
   "outputs": [],
   "source": [
    "import torch_scatter"
   ]
  },
  {
   "cell_type": "code",
   "execution_count": null,
   "id": "81db59e4",
   "metadata": {},
   "outputs": [],
   "source": [
    "deg = torch_scatter.segment_coo(torch.ones_like(_row), _row.long())"
   ]
  },
  {
   "cell_type": "code",
   "execution_count": null,
   "id": "c411af61",
   "metadata": {},
   "outputs": [],
   "source": [
    "import matplotlib.pyplot as plt\n",
    "\n",
    "plt.hist(deg.numpy())"
   ]
  },
  {
   "cell_type": "code",
   "execution_count": null,
   "id": "55ca3d18",
   "metadata": {},
   "outputs": [],
   "source": []
  },
  {
   "cell_type": "code",
   "execution_count": null,
   "id": "947d9cbe",
   "metadata": {},
   "outputs": [],
   "source": []
  },
  {
   "cell_type": "code",
   "execution_count": null,
   "id": "417eebad",
   "metadata": {},
   "outputs": [],
   "source": [
    "thresh = 1e-4\n",
    "num_parts = 48"
   ]
  },
  {
   "cell_type": "code",
   "execution_count": null,
   "id": "ae076908",
   "metadata": {},
   "outputs": [],
   "source": [
    "mask = val > thresh"
   ]
  },
  {
   "cell_type": "code",
   "execution_count": null,
   "id": "8dfef159",
   "metadata": {},
   "outputs": [],
   "source": [
    "mask = np.unique(col[mask])"
   ]
  },
  {
   "cell_type": "code",
   "execution_count": null,
   "id": "03b12498",
   "metadata": {},
   "outputs": [],
   "source": [
    "mask = torch.from_numpy(mask).long()"
   ]
  },
  {
   "cell_type": "code",
   "execution_count": null,
   "id": "38cffa01",
   "metadata": {},
   "outputs": [],
   "source": [
    "adj_t = adj_t[mask, :][:, mask]"
   ]
  },
  {
   "cell_type": "code",
   "execution_count": null,
   "id": "81ed64f9",
   "metadata": {},
   "outputs": [],
   "source": [
    "adj_t"
   ]
  },
  {
   "cell_type": "code",
   "execution_count": null,
   "id": "528b8594",
   "metadata": {},
   "outputs": [],
   "source": []
  },
  {
   "cell_type": "code",
   "execution_count": null,
   "id": "1262b6d5",
   "metadata": {},
   "outputs": [],
   "source": [
    "_, partptr, perm = adj_t.partition(num_parts=num_parts, recursive=False, weighted=False)"
   ]
  },
  {
   "cell_type": "code",
   "execution_count": null,
   "id": "4c2117fc",
   "metadata": {},
   "outputs": [],
   "source": [
    "mask = mask.numpy()"
   ]
  },
  {
   "cell_type": "code",
   "execution_count": null,
   "id": "d1a24276",
   "metadata": {},
   "outputs": [],
   "source": [
    "partitions = []\n",
    "\n",
    "for i in range(len(partptr) - 1):\n",
    "    partitions.append(mask[perm[partptr[i] : partptr[i + 1]].cpu().detach().numpy()])"
   ]
  },
  {
   "cell_type": "code",
   "execution_count": null,
   "id": "9279305d",
   "metadata": {},
   "outputs": [],
   "source": [
    "partitions"
   ]
  },
  {
   "cell_type": "code",
   "execution_count": null,
   "id": "a0598300",
   "metadata": {},
   "outputs": [],
   "source": [
    "primes = []\n",
    "\n",
    "for part in partitions:\n",
    "    primes.append(np.intersect1d(test_indices, part))"
   ]
  },
  {
   "cell_type": "code",
   "execution_count": null,
   "id": "bc26cfc0",
   "metadata": {},
   "outputs": [],
   "source": [
    "seconds = []\n",
    "\n",
    "for prime in tqdm(primes):\n",
    "    second = set()\n",
    "    for p in prime:\n",
    "        pos = (test_indices == p).nonzero()[0]\n",
    "        cols, vals = find(ppr_mat[pos, :])[1:]\n",
    "        topks = cols[np.argsort(vals)[-64:]]\n",
    "        second.update(topks)\n",
    "    \n",
    "    second = np.array(list(second), dtype=np.int64)\n",
    "    globes = ppr_mat[np.in1d(test_indices, prime), :].sum(0).A1\n",
    "    ind_globes = globes.nonzero()[0]\n",
    "    val_globes = globes[ind_globes]\n",
    "    mask = np.argpartition(val_globes, kth=max(0, len(val_globes) - 400000))[-400000:]\n",
    "    second = np.union1d(second, ind_globes[mask])\n",
    "    \n",
    "    seconds.append(second)"
   ]
  },
  {
   "cell_type": "code",
   "execution_count": null,
   "id": "d91634ef",
   "metadata": {},
   "outputs": [],
   "source": [
    "batches = []"
   ]
  },
  {
   "cell_type": "code",
   "execution_count": null,
   "id": "d14a0ec3",
   "metadata": {},
   "outputs": [],
   "source": [
    "for p, n in zip(primes, seconds):\n",
    "    assert np.all(np.in1d(p, n))\n",
    "    batches.append((p, n))"
   ]
  },
  {
   "cell_type": "code",
   "execution_count": null,
   "id": "a4236161",
   "metadata": {},
   "outputs": [],
   "source": [
    "with open('/nfs/students/qian/papers100m_test_LBMB.pkl', 'wb') as handle:\n",
    "    pickle.dump(batches, handle, protocol=pickle.HIGHEST_PROTOCOL)"
   ]
  },
  {
   "cell_type": "code",
   "execution_count": null,
   "id": "14703e3f",
   "metadata": {},
   "outputs": [],
   "source": []
  }
 ],
 "metadata": {
  "kernelspec": {
   "display_name": "Python 3 (ipykernel)",
   "language": "python",
   "name": "python3"
  },
  "language_info": {
   "codemirror_mode": {
    "name": "ipython",
    "version": 3
   },
   "file_extension": ".py",
   "mimetype": "text/x-python",
   "name": "python",
   "nbconvert_exporter": "python",
   "pygments_lexer": "ipython3",
   "version": "3.7.11"
  }
 },
 "nbformat": 4,
 "nbformat_minor": 5
}
