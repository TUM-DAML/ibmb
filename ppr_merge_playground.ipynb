{
 "cells": [
  {
   "cell_type": "markdown",
   "id": "96898ef2",
   "metadata": {
    "tags": []
   },
   "source": [
    "# push flow"
   ]
  },
  {
   "cell_type": "code",
   "execution_count": 1,
   "id": "b86b55ee-b8b5-4ebf-bd72-544268662ce1",
   "metadata": {},
   "outputs": [],
   "source": [
    "%load_ext autoreload\n",
    "%autoreload 2"
   ]
  },
  {
   "cell_type": "code",
   "execution_count": 2,
   "id": "f0b7ada7",
   "metadata": {},
   "outputs": [],
   "source": [
    "import torch\n",
    "import numpy as np\n",
    "import time\n",
    "from tqdm import tqdm\n",
    "from torch_sparse import spspmm, transpose\n",
    "import pickle\n",
    "from torch_scatter import segment_coo\n",
    "from neighboring.ppr_power_iteration import *\n",
    "from neighboring.pernode_ppr_neighbor import construct_sparse"
   ]
  },
  {
   "cell_type": "code",
   "execution_count": 3,
   "id": "66229fe8-569d-4412-99ad-f527b9c118d4",
   "metadata": {},
   "outputs": [],
   "source": [
    "with open('/nfs/students/qian/papers100m_splits.pkl', 'rb') as handle:\n",
    "    (train_indices, val_indices, test_indices) = pickle.load(handle)"
   ]
  },
  {
   "cell_type": "code",
   "execution_count": 4,
   "id": "1a8ccd01-116d-4419-b055-59403d6697a4",
   "metadata": {},
   "outputs": [
    {
     "data": {
      "text/plain": [
       "(1207179, 125265, 214338)"
      ]
     },
     "execution_count": 4,
     "metadata": {},
     "output_type": "execute_result"
    }
   ],
   "source": [
    "len(train_indices), len(val_indices), len(test_indices)"
   ]
  },
  {
   "cell_type": "code",
   "execution_count": 5,
   "id": "e7d7201c-30e9-42e1-87c8-63f201639b80",
   "metadata": {},
   "outputs": [],
   "source": [
    "adj_mask = torch.from_numpy(np.concatenate((train_indices, val_indices, test_indices)))"
   ]
  },
  {
   "cell_type": "code",
   "execution_count": 6,
   "id": "558db3f6-bcad-4f45-9497-e6504f2a7cfc",
   "metadata": {},
   "outputs": [],
   "source": [
    "adj_t = torch.load('/nfs/students/qian/data/papers100m/adj.pt')\n",
    "# adj = torch.load('reddit_adj.pt')"
   ]
  },
  {
   "cell_type": "code",
   "execution_count": null,
   "id": "f99dc629-e6c4-4a09-a3fa-ad30967190e1",
   "metadata": {},
   "outputs": [],
   "source": []
  },
  {
   "cell_type": "code",
   "execution_count": null,
   "id": "d6f822ef-9f81-43de-8065-194d3b6840ea",
   "metadata": {},
   "outputs": [],
   "source": []
  },
  {
   "cell_type": "code",
   "execution_count": null,
   "id": "3e633440-48b4-48c1-a8f9-1b53040a7cb0",
   "metadata": {},
   "outputs": [],
   "source": [
    "from neighboring.ppr_power_iteration import ppr_power_iter"
   ]
  },
  {
   "cell_type": "code",
   "execution_count": null,
   "id": "229f3216-9782-47b2-a208-c2dff107d797",
   "metadata": {},
   "outputs": [],
   "source": [
    "adj_mask = np.concatenate((train_indices, val_indices, test_indices))\n",
    "neighbors, pprmat = ppr_power_iter(adj_t, \n",
    "                                   'papers100M', \n",
    "                                   topk=32, \n",
    "                                   alpha=0.25, \n",
    "                                   thresh=1e-4, \n",
    "                                   adj_mask=torch.from_numpy(adj_mask))"
   ]
  },
  {
   "cell_type": "code",
   "execution_count": null,
   "id": "575199de-2487-4f74-97d1-038f8943d8ea",
   "metadata": {},
   "outputs": [],
   "source": []
  },
  {
   "cell_type": "code",
   "execution_count": null,
   "id": "c2e895e3-759f-40f3-b521-f25259a41d32",
   "metadata": {},
   "outputs": [],
   "source": []
  },
  {
   "cell_type": "code",
   "execution_count": null,
   "id": "fe537849-d8a3-45f5-9409-900ca469951f",
   "metadata": {},
   "outputs": [],
   "source": []
  },
  {
   "cell_type": "code",
   "execution_count": 9,
   "id": "d3f8cf71",
   "metadata": {},
   "outputs": [
    {
     "data": {
      "text/plain": [
       "SparseTensor(row=tensor([        0,         0,         1,  ..., 111059955, 111059955,\n",
       "                           111059955]),\n",
       "             col=tensor([        0, 102309412,         1,  ...,  59629722,  95195371,\n",
       "                           111059955]),\n",
       "             val=tensor([0.5000, 0.0801, 0.1111,  ..., 0.1491, 0.2357, 0.3333]),\n",
       "             size=(111059956, 111059956), nnz=3339184668, density=0.00%)"
      ]
     },
     "execution_count": 9,
     "metadata": {},
     "output_type": "execute_result"
    }
   ],
   "source": [
    "adj_t"
   ]
  },
  {
   "cell_type": "code",
   "execution_count": 10,
   "id": "7954e6f6",
   "metadata": {},
   "outputs": [],
   "source": [
    "prams = {'arxiv': {'chunksize': 10000,\n",
    "                   'alpha': 0.05,\n",
    "                   'iters': 3,\n",
    "                   'top_percent': [1, 0.01, 0.25], \n",
    "                   'thresh': 0.001}, \n",
    "         'products': {'chunksize': 10000,\n",
    "                   'alpha': 0.05,\n",
    "                   'iters': 3,\n",
    "                   'top_percent': [1, 0.01, 0.15], \n",
    "                   'thresh': 2e-4}, \n",
    "         'reddit': {'chunksize': 8000,\n",
    "                   'alpha': 0.05,\n",
    "                   'iters': 3,\n",
    "                   'top_percent': [0.1, 0.01, 0.15], \n",
    "                   'thresh': 1e-5}, \n",
    "         'papers100M': {'chunksize': 8000,\n",
    "                   'alpha': 0.25,\n",
    "                   'iters': 2,\n",
    "                   'top_percent': [0.1, 0.01, 0.15], \n",
    "                   'thresh': 2e-4}, }"
   ]
  },
  {
   "cell_type": "markdown",
   "id": "c36beb15",
   "metadata": {},
   "source": [
    "r0 = a * e\n",
    "\n",
    "p0 = 0\n",
    "\n",
    "pk = pk-1 + rk-1\n",
    "\n",
    "rk = (1 - a) * A * rk-1"
   ]
  },
  {
   "cell_type": "code",
   "execution_count": 11,
   "id": "b7740fa0-6378-4d58-b8e0-3a1c63f89371",
   "metadata": {},
   "outputs": [],
   "source": [
    "chunksize, alpha, iters, top_percent, thresh = prams['papers100M'].values()\n",
    "\n",
    "topk = 32\n",
    "\n",
    "neighbor_list = []\n",
    "weights_list = []"
   ]
  },
  {
   "cell_type": "code",
   "execution_count": 66,
   "id": "7dfc0c3b-7a98-41ad-be28-8d088c86679c",
   "metadata": {},
   "outputs": [],
   "source": [
    "# index1 = torch.stack((adj.storage._row, adj.storage._col), 0).to(device)\n",
    "# value1 = adj.storage._value.to(device) * (1 - alpha)\n",
    "# adj_sizes = adj.size()\n",
    "if adj_mask is not None:\n",
    "    prime_adj = adj_t[adj_mask, :]\n",
    "# prime_adj = down_sample_adj(prime_adj, topk)"
   ]
  },
  {
   "cell_type": "code",
   "execution_count": null,
   "id": "15796d06-d03b-4f3f-972c-a3011492c201",
   "metadata": {},
   "outputs": [],
   "source": []
  },
  {
   "cell_type": "code",
   "execution_count": 54,
   "id": "5d98843f-c71b-4288-89e9-447474af1d9f",
   "metadata": {},
   "outputs": [],
   "source": [
    "device = 'cuda'\n",
    "alpha = 0.25"
   ]
  },
  {
   "cell_type": "code",
   "execution_count": 29,
   "id": "e936dbf1-326d-458d-8886-a75cc54c03c2",
   "metadata": {},
   "outputs": [],
   "source": [
    "def adj_add(src, other):\n",
    "    rowA, colA, valueA = src.coo()\n",
    "    rowB, colB, valueB = other.coo()\n",
    "\n",
    "    row = torch.cat([rowA, rowB], dim=0)\n",
    "    col = torch.cat([colA, colB], dim=0)\n",
    "\n",
    "    value: Optional[Tensor] = None\n",
    "    if valueA is not None and valueB is not None:\n",
    "        value = torch.cat([valueA, valueB], dim=0)\n",
    "\n",
    "    M = max(src.size(0), other.size(0))\n",
    "    N = max(src.size(1), other.size(1))\n",
    "    sparse_sizes = (M, N)\n",
    "\n",
    "    out = SparseTensor(row=row, col=col, value=value,\n",
    "                       sparse_sizes=sparse_sizes)\n",
    "    out = out.coalesce(reduce='sum')\n",
    "    return out"
   ]
  },
  {
   "cell_type": "code",
   "execution_count": 30,
   "id": "54156da7-6374-4aa8-8efb-c2103f424a99",
   "metadata": {},
   "outputs": [
    {
     "data": {
      "text/plain": [
       "SparseTensor(row=tensor([      688,      2069,      2729,  ..., 111048021, 111053015,\n",
       "                           111059919], device='cuda:0'),\n",
       "             col=tensor([ 113, 3443, 1740,  ..., 6553, 7822,  726], device='cuda:0'),\n",
       "             val=tensor([0.0745, 0.0212, 0.0571,  ..., 0.0367, 0.0118, 0.1348], device='cuda:0'),\n",
       "             size=(111059954, 8000), nnz=139949, density=0.00%)"
      ]
     },
     "execution_count": 30,
     "metadata": {},
     "output_type": "execute_result"
    }
   ],
   "source": [
    "adj_add(src=ad, other=ad)"
   ]
  },
  {
   "cell_type": "code",
   "execution_count": null,
   "id": "acc8c6d7-2c52-4e04-a5e6-d84ca457f47d",
   "metadata": {},
   "outputs": [],
   "source": []
  },
  {
   "cell_type": "code",
   "execution_count": 46,
   "id": "0c1b7e7c-2f1f-4e74-bf68-3dcfaeb6f5f3",
   "metadata": {},
   "outputs": [],
   "source": [
    "def spspmm_sum(src: SparseTensor, other: SparseTensor) -> SparseTensor:\n",
    "    assert src.sparse_size(1) == other.sparse_size(0)\n",
    "    rowptrA, colA, valueA = src.csr()\n",
    "    rowptrB, colB, valueB = other.csr()\n",
    "    value = valueA if valueA is not None else valueB\n",
    "    if valueA is not None and valueA.dtype == torch.half:\n",
    "        valueA = valueA.to(torch.float)\n",
    "    if valueB is not None and valueB.dtype == torch.half:\n",
    "        valueB = valueB.to(torch.float)\n",
    "    M, K = src.sparse_size(0), other.sparse_size(1)\n",
    "    rowptrC, colC, valueC = torch.ops.torch_sparse.spspmm_sum(\n",
    "        rowptrA, colA, valueA, rowptrB, colB, valueB, K)\n",
    "    if valueC is not None and value is not None:\n",
    "        valueC = valueC.to(value.dtype)\n",
    "    return SparseTensor(row=None, rowptr=rowptrC, col=colC, value=valueC,\n",
    "                        sparse_sizes=(M, K), is_sorted=True)"
   ]
  },
  {
   "cell_type": "code",
   "execution_count": 42,
   "id": "acf38d29-0c5e-4af6-96a5-96c2691da0f6",
   "metadata": {},
   "outputs": [],
   "source": [
    "from torch_sparse import SparseTensor, cat"
   ]
  },
  {
   "cell_type": "code",
   "execution_count": 70,
   "id": "64f0deec-2d8e-4267-a49a-b7c8f786f119",
   "metadata": {},
   "outputs": [
    {
     "name": "stdout",
     "output_type": "stream",
     "text": [
      "0\n",
      "1\n",
      "2\n",
      "3\n",
      "4\n",
      "5\n",
      "6\n",
      "7\n",
      "8\n",
      "9\n",
      "10\n",
      "11\n",
      "12\n",
      "13\n",
      "14\n",
      "15\n",
      "16\n",
      "17\n",
      "18\n",
      "19\n",
      "20\n",
      "21\n",
      "22\n",
      "23\n",
      "24\n",
      "25\n",
      "26\n",
      "27\n",
      "28\n",
      "29\n",
      "30\n",
      "31\n",
      "32\n",
      "33\n",
      "34\n",
      "35\n",
      "36\n",
      "37\n",
      "38\n",
      "39\n",
      "40\n",
      "41\n",
      "42\n",
      "43\n",
      "44\n",
      "45\n"
     ]
    },
    {
     "ename": "RuntimeError",
     "evalue": "Trying to create tensor with negative dimension -1565362272: [-1565362272]",
     "output_type": "error",
     "traceback": [
      "\u001b[0;31m---------------------------------------------------------------------------\u001b[0m",
      "\u001b[0;31mRuntimeError\u001b[0m                              Traceback (most recent call last)",
      "\u001b[0;32m/tmp/ipykernel_1884102/3088303505.py\u001b[0m in \u001b[0;36m<module>\u001b[0;34m\u001b[0m\n\u001b[1;32m     24\u001b[0m                 \u001b[0;32mfor\u001b[0m \u001b[0mj\u001b[0m\u001b[0;34m,\u001b[0m \u001b[0mrow_adj\u001b[0m \u001b[0;32min\u001b[0m \u001b[0menumerate\u001b[0m\u001b[0;34m(\u001b[0m\u001b[0mrow_parts\u001b[0m\u001b[0;34m)\u001b[0m\u001b[0;34m:\u001b[0m\u001b[0;34m\u001b[0m\u001b[0;34m\u001b[0m\u001b[0m\n\u001b[1;32m     25\u001b[0m                     \u001b[0mprint\u001b[0m\u001b[0;34m(\u001b[0m\u001b[0mj\u001b[0m\u001b[0;34m)\u001b[0m\u001b[0;34m\u001b[0m\u001b[0;34m\u001b[0m\u001b[0m\n\u001b[0;32m---> 26\u001b[0;31m                     \u001b[0mnew_col_adj_list\u001b[0m\u001b[0;34m.\u001b[0m\u001b[0mappend\u001b[0m\u001b[0;34m(\u001b[0m\u001b[0mspspmm_sum\u001b[0m\u001b[0;34m(\u001b[0m\u001b[0mrow_adj\u001b[0m\u001b[0;34m,\u001b[0m \u001b[0mcol_adj\u001b[0m\u001b[0;34m)\u001b[0m\u001b[0;34m)\u001b[0m\u001b[0;34m\u001b[0m\u001b[0;34m\u001b[0m\u001b[0m\n\u001b[0m\u001b[1;32m     27\u001b[0m \u001b[0;34m\u001b[0m\u001b[0m\n\u001b[1;32m     28\u001b[0m                 \u001b[0mcol_adj\u001b[0m \u001b[0;34m=\u001b[0m \u001b[0mcat\u001b[0m\u001b[0;34m(\u001b[0m\u001b[0mnew_col_adj_list\u001b[0m\u001b[0;34m,\u001b[0m \u001b[0mdim\u001b[0m\u001b[0;34m=\u001b[0m\u001b[0;36m0\u001b[0m\u001b[0;34m)\u001b[0m\u001b[0;34m\u001b[0m\u001b[0;34m\u001b[0m\u001b[0m\n",
      "\u001b[0;32m/tmp/ipykernel_1884102/3517060573.py\u001b[0m in \u001b[0;36mspspmm_sum\u001b[0;34m(src, other)\u001b[0m\n\u001b[1;32m     10\u001b[0m     \u001b[0mM\u001b[0m\u001b[0;34m,\u001b[0m \u001b[0mK\u001b[0m \u001b[0;34m=\u001b[0m \u001b[0msrc\u001b[0m\u001b[0;34m.\u001b[0m\u001b[0msparse_size\u001b[0m\u001b[0;34m(\u001b[0m\u001b[0;36m0\u001b[0m\u001b[0;34m)\u001b[0m\u001b[0;34m,\u001b[0m \u001b[0mother\u001b[0m\u001b[0;34m.\u001b[0m\u001b[0msparse_size\u001b[0m\u001b[0;34m(\u001b[0m\u001b[0;36m1\u001b[0m\u001b[0;34m)\u001b[0m\u001b[0;34m\u001b[0m\u001b[0;34m\u001b[0m\u001b[0m\n\u001b[1;32m     11\u001b[0m     rowptrC, colC, valueC = torch.ops.torch_sparse.spspmm_sum(\n\u001b[0;32m---> 12\u001b[0;31m         rowptrA, colA, valueA, rowptrB, colB, valueB, K)\n\u001b[0m\u001b[1;32m     13\u001b[0m     \u001b[0;32mif\u001b[0m \u001b[0mvalueC\u001b[0m \u001b[0;32mis\u001b[0m \u001b[0;32mnot\u001b[0m \u001b[0;32mNone\u001b[0m \u001b[0;32mand\u001b[0m \u001b[0mvalue\u001b[0m \u001b[0;32mis\u001b[0m \u001b[0;32mnot\u001b[0m \u001b[0;32mNone\u001b[0m\u001b[0;34m:\u001b[0m\u001b[0;34m\u001b[0m\u001b[0;34m\u001b[0m\u001b[0m\n\u001b[1;32m     14\u001b[0m         \u001b[0mvalueC\u001b[0m \u001b[0;34m=\u001b[0m \u001b[0mvalueC\u001b[0m\u001b[0;34m.\u001b[0m\u001b[0mto\u001b[0m\u001b[0;34m(\u001b[0m\u001b[0mvalue\u001b[0m\u001b[0;34m.\u001b[0m\u001b[0mdtype\u001b[0m\u001b[0;34m)\u001b[0m\u001b[0;34m\u001b[0m\u001b[0;34m\u001b[0m\u001b[0m\n",
      "\u001b[0;31mRuntimeError\u001b[0m: Trying to create tensor with negative dimension -1565362272: [-1565362272]"
     ]
    }
   ],
   "source": [
    "col_parts = chunk_csr_col(prime_adj, chunksize=chunksize, device='cuda', return_adj=True)\n",
    "\n",
    "for i, col_adj in enumerate(col_parts):\n",
    "\n",
    "    ## push flow\n",
    "    with torch.no_grad():\n",
    "        # after first iter\n",
    "        mask = adj_mask[i * chunksize : (i + 1) * chunksize].to(device)\n",
    "        col = torch.arange(len(mask), device=mask.device)\n",
    "        # p_idx = torch.stack((row, col), 0)\n",
    "        p_val = torch.full(mask.size(), alpha, device=device, dtype=torch.float32)\n",
    "        p = SparseTensor(row = mask, col = col, value = p_val)\n",
    "        \n",
    "        # value2 *= alpha\n",
    "        col_adj = col_adj.set_value_(col_adj.storage._value * alpha, layout='csr')\n",
    "\n",
    "        for it in range(1, iters + 1):\n",
    "            # p_idx, p_val = spspadd(p_idx, p_val, index2, value2, (adj.size()[0], size1))\n",
    "            p = adj_add(p, col_adj)\n",
    "\n",
    "            if it < iters:\n",
    "                row_parts = chunk_csr_col(adj_t, chunksize=1000000, device='cuda', axis='row', return_adj=True)\n",
    "                new_col_adj_list = []\n",
    "                for j, row_adj in enumerate(row_parts):\n",
    "                    print(j)\n",
    "                    new_col_adj_list.append(spspmm_sum(row_adj, col_adj))\n",
    "\n",
    "                col_adj = cat(new_col_adj_list, dim=0)\n",
    "                new_col_adj_list = None\n",
    "                row, col, value = col_adj.coo()\n",
    "                mask2 = value >= thresh\n",
    "                mask2[mask] = True\n",
    "                row, col, value = row[mask2], col[mask2], value[mask2]\n",
    "                col_adj = SparseTensor(row = mask, col = col, value = p_val, device=col_adj.device)\n",
    "\n",
    "    col_adj = None\n",
    "#     index_ascending, sorting_indices = torch.sort(p_idx[1])  # col should be sorted\n",
    "#     ppr_scores_ascending = p_val[sorting_indices]\n",
    "#     mask = get_topk_neighbors_mask(size1, index_ascending, ppr_scores_ascending, topk)\n",
    "\n",
    "#     (row, col), val = transpose(p_idx, p_val, adj.size()[0], size1)\n",
    "#     split_idx = ((row[1:] > row[:-1]).nonzero().squeeze() + 1).cpu().numpy()\n",
    "#     mask_splits = np.array_split(mask.cpu().numpy(), split_idx)\n",
    "#     col_splits = np.array_split(col.cpu().numpy(), split_idx)\n",
    "#     val_splits = np.array_split(val.cpu().numpy(), split_idx)\n",
    "\n",
    "#     neighbor_list += [c[m] for c, m in zip(col_splits, mask_splits)]\n",
    "#     weights_list += [v[m] for v, m in zip(val_splits, mask_splits)]\n",
    "\n",
    "#     p_idx, p_val = None, None\n",
    "\n",
    "    torch.cuda.empty_cache()\n",
    "\n",
    "    print(f'max_memory = {torch.cuda.max_memory_allocated()}, '\n",
    "                     f'memory = {torch.cuda.memory_allocated()}, '\n",
    "                     f'max_memory_reserve = {torch.cuda.max_memory_reserved()}, '\n",
    "                     f'memory_reserve = {torch.cuda.memory_reserved()}')\n",
    "\n",
    "index1 = index1.to('cpu')\n",
    "value1 = value1.to('cpu')\n",
    "\n",
    "torch.cuda.reset_peak_memory_stats()\n",
    "\n",
    "pprmat = construct_sparse(neighbor_list, weights_list, adj.sizes()).tocsr()"
   ]
  },
  {
   "cell_type": "code",
   "execution_count": null,
   "id": "29143dac-6396-40a3-b48f-d62220b3c547",
   "metadata": {},
   "outputs": [],
   "source": []
  },
  {
   "cell_type": "code",
   "execution_count": null,
   "id": "86f0ecff-99fd-487f-9886-885e715dba4f",
   "metadata": {},
   "outputs": [],
   "source": []
  },
  {
   "cell_type": "code",
   "execution_count": null,
   "id": "dfa46e7c-d77a-4cbd-8667-865fbdd54363",
   "metadata": {},
   "outputs": [],
   "source": []
  },
  {
   "cell_type": "code",
   "execution_count": null,
   "id": "e4141f9b-7454-48ac-b89c-a8cd53352484",
   "metadata": {},
   "outputs": [],
   "source": []
  },
  {
   "cell_type": "code",
   "execution_count": null,
   "id": "edc888e3-170f-405c-88d4-fda2be591108",
   "metadata": {},
   "outputs": [],
   "source": [
    "lens = [len(p) for p in neighbor_list]"
   ]
  },
  {
   "cell_type": "code",
   "execution_count": null,
   "id": "fe3dbc9c-2b16-4c50-9a17-b79014819d78",
   "metadata": {},
   "outputs": [],
   "source": [
    "np.mean(lens)"
   ]
  },
  {
   "cell_type": "code",
   "execution_count": null,
   "id": "7cce0fe6-c062-4216-a338-69cb05cc3bd3",
   "metadata": {},
   "outputs": [],
   "source": [
    "pprmat = construct_sparse(neighbor_list, weights_list, prime_adj.sizes()).tocsr()"
   ]
  },
  {
   "cell_type": "code",
   "execution_count": null,
   "id": "a9cc5e3e-7f7b-4c81-b5de-f06e37ee2877",
   "metadata": {},
   "outputs": [],
   "source": [
    "pprmat"
   ]
  },
  {
   "cell_type": "code",
   "execution_count": null,
   "id": "e60c63d7-16c8-4201-9698-0e55cb85fb03",
   "metadata": {},
   "outputs": [],
   "source": [
    "train_mat = pprmat[:1207179, :][:, train_indices]"
   ]
  },
  {
   "cell_type": "code",
   "execution_count": null,
   "id": "5f8b2b99-c1eb-47fa-8fb5-7fa13d2e92e4",
   "metadata": {},
   "outputs": [],
   "source": [
    "train_mat"
   ]
  },
  {
   "cell_type": "code",
   "execution_count": null,
   "id": "3c817067-5be8-474a-a312-d80768f62072",
   "metadata": {},
   "outputs": [],
   "source": [
    "val_mat = pprmat[len(train_indices):(len(train_indices)+len(val_indices)), :][:, val_indices]"
   ]
  },
  {
   "cell_type": "code",
   "execution_count": null,
   "id": "05b9440a-720a-48d0-87d8-35395e843ae0",
   "metadata": {},
   "outputs": [],
   "source": [
    "val_mat"
   ]
  },
  {
   "cell_type": "code",
   "execution_count": null,
   "id": "11c6209f-0f6c-4102-bbb0-ca3b25cd8d2d",
   "metadata": {},
   "outputs": [],
   "source": [
    "from batching.loader_prime_orient_ppr import ppr_fixed_loader as prime_ppr_loader"
   ]
  },
  {
   "cell_type": "code",
   "execution_count": null,
   "id": "15359b74-c514-4a91-b666-04d27841cf54",
   "metadata": {},
   "outputs": [],
   "source": [
    "neighbors = np.array(neighbor_list, dtype=object)[:len(train_indices)]"
   ]
  },
  {
   "cell_type": "code",
   "execution_count": null,
   "id": "4c4f4462-87a6-488f-b5a5-71309a355a2e",
   "metadata": {},
   "outputs": [],
   "source": [
    "loader = prime_ppr_loader(train_mat, \n",
    "                         train_indices, \n",
    "                         neighbors, \n",
    "                         5000)"
   ]
  },
  {
   "cell_type": "code",
   "execution_count": null,
   "id": "a753a6d2-e0ae-4a91-a8e5-8df37ffb3e8a",
   "metadata": {},
   "outputs": [],
   "source": [
    "ps = 0\n",
    "for p, n in loader:\n",
    "    print(len(p), len(n))\n",
    "    ps += len(p)"
   ]
  },
  {
   "cell_type": "code",
   "execution_count": null,
   "id": "64382dbc-71a0-4cf6-8afe-8cd5b5986bee",
   "metadata": {},
   "outputs": [],
   "source": [
    "ps"
   ]
  },
  {
   "cell_type": "code",
   "execution_count": null,
   "id": "3374f678-5f1a-4efe-8af1-d61369e222ce",
   "metadata": {},
   "outputs": [],
   "source": []
  },
  {
   "cell_type": "code",
   "execution_count": null,
   "id": "68f988e8-f00c-47b8-8f7d-a48be9f86885",
   "metadata": {},
   "outputs": [],
   "source": []
  },
  {
   "cell_type": "code",
   "execution_count": null,
   "id": "fa344704-2304-4d46-bdf5-c16791776d93",
   "metadata": {},
   "outputs": [],
   "source": []
  },
  {
   "cell_type": "code",
   "execution_count": null,
   "id": "e51f4cac-ce4e-43c5-bdf0-600220c21f65",
   "metadata": {},
   "outputs": [],
   "source": []
  },
  {
   "cell_type": "code",
   "execution_count": null,
   "id": "5b791a39-cb88-4080-af31-7477238808b7",
   "metadata": {},
   "outputs": [],
   "source": [
    "indexC, valueC"
   ]
  },
  {
   "cell_type": "code",
   "execution_count": null,
   "id": "40acebb2-1200-43ff-b08e-c40640f3efdd",
   "metadata": {},
   "outputs": [],
   "source": []
  }
 ],
 "metadata": {
  "kernelspec": {
   "display_name": "Python 3 (ipykernel)",
   "language": "python",
   "name": "python3"
  },
  "language_info": {
   "codemirror_mode": {
    "name": "ipython",
    "version": 3
   },
   "file_extension": ".py",
   "mimetype": "text/x-python",
   "name": "python",
   "nbconvert_exporter": "python",
   "pygments_lexer": "ipython3",
   "version": "3.9.7"
  }
 },
 "nbformat": 4,
 "nbformat_minor": 5
}
