{
 "cells": [
  {
   "cell_type": "code",
   "execution_count": null,
   "id": "944f3432",
   "metadata": {},
   "outputs": [],
   "source": [
    "# %load_ext line_profiler\n",
    "# %load_ext memory_profiler\n",
    "%load_ext autoreload\n",
    "%autoreload 2\n",
    "\n",
    "import numpy as np\n",
    "import torch"
   ]
  },
  {
   "cell_type": "code",
   "execution_count": null,
   "id": "9d7842b8-0011-4e5c-82db-76d892f60094",
   "metadata": {},
   "outputs": [],
   "source": []
  },
  {
   "cell_type": "code",
   "execution_count": null,
   "id": "e78e2c83-1b48-4020-8423-c5feaa3a9fc7",
   "metadata": {},
   "outputs": [],
   "source": []
  },
  {
   "cell_type": "code",
   "execution_count": null,
   "id": "8d493209",
   "metadata": {},
   "outputs": [],
   "source": [
    "notebook = True\n",
    "batch_size = 1\n",
    "# num_batches = [10, 5, 5]\n",
    "# num_batches = [16, 8, 8]\n",
    "# num_batches = [400, 200, 200]\n",
    "num_batches = [16, 8, 8]\n",
    "# num_batches = [1200, 600, 600]\n",
    "# num_batches = [1000, 1000]\n",
    "# num_batches = [256, 96, 96]\n",
    "# num_batches = [256, 32, 32]\n",
    "part_topk = [1, 1]\n",
    "small_trainingset = 1\n",
    "\n",
    "# dataset_name = 'arxiv'\n",
    "dataset_name = 'products'\n",
    "# dataset_name = 'reddit'\n",
    "micro_batch = 1\n",
    "mode = 'rw_sampling'\n",
    "neighbor_sampling = 'batch_ppr'\n",
    "diffusion_param = 0.25\n",
    "\n",
    "graphmodel = 'gcn'\n",
    "hidden_channels = 256\n",
    "reg = 1e-4\n",
    "heads = 4\n",
    "\n",
    "cache_sub_adj = True\n",
    "cache_origin_adj = False\n",
    "\n",
    "n_sampling_params = {'n_nodes': [15, 10, 10], 'num_batches': [1000, 150, 8000]}\n",
    "rw_sampling_params = {'batch_size': [80000, 5000], 'num_steps': 16, 'walk_length': 2, 'sample_coverage': 100}\n",
    "ladies_params = {'sample_size': [42336, 84672, 84672]}\n",
    "ppr_params = {'neighbor_topk': 16, 'merge_max_size': None, 'primes_per_batch': 130, 'pushflowthresh': 2e-4}"
   ]
  },
  {
   "cell_type": "code",
   "execution_count": null,
   "id": "b6624b72-f460-4745-a63f-128ed114fc4a",
   "metadata": {},
   "outputs": [],
   "source": [
    "from run_ogbn_extra import run\n",
    "\n",
    "data = run(dataset_name,\n",
    "        graphmodel,\n",
    "        mode,\n",
    "        neighbor_sampling,\n",
    "        diffusion_param,\n",
    "        small_trainingset,\n",
    "        batch_size,\n",
    "        micro_batch,\n",
    "        num_batches,\n",
    "        {'ordered': False, 'sampled': False}, \n",
    "        part_topk,\n",
    "        reg,\n",
    "        hidden_channels,\n",
    "        \n",
    "        cache_sub_adj,\n",
    "        cache_origin_adj,\n",
    "        \n",
    "        ppr_params = ppr_params,\n",
    "        n_sampling_params = n_sampling_params,\n",
    "        rw_sampling_params = rw_sampling_params,\n",
    "        ladies_params = ladies_params,\n",
    "\n",
    "        epoch_min=0,\n",
    "        epoch_max=5,\n",
    "        patience=100,\n",
    "        lr=1e-3,\n",
    "        num_layers=3, \n",
    "        heads=heads)"
   ]
  },
  {
   "cell_type": "code",
   "execution_count": null,
   "id": "4bf2e907-ed34-46f8-b399-f30a99353b38",
   "metadata": {},
   "outputs": [],
   "source": []
  },
  {
   "cell_type": "code",
   "execution_count": null,
   "id": "577f3691",
   "metadata": {
    "tags": []
   },
   "outputs": [],
   "source": [
    "from infer import run\n",
    "\n",
    "data = run(dataset_name,\n",
    "        graphmodel,\n",
    "        mode,\n",
    "        neighbor_sampling,\n",
    "        diffusion_param,\n",
    "        num_batches,\n",
    "        256,\n",
    "        part_topk,\n",
    "           cache_sub_adj=cache_sub_adj,\n",
    "        cache_origin_adj=cache_origin_adj,\n",
    "          num_layers=3,\n",
    "           ppr_params=ppr_params,\n",
    "          ladies_params=ladies_params,\n",
    "          n_sampling_params=n_sampling_params,\n",
    "          rw_sampling_params=rw_sampling_params,\n",
    "        heads=4,)"
   ]
  },
  {
   "cell_type": "code",
   "execution_count": null,
   "id": "efa0babe-a103-4ced-9853-16129b093074",
   "metadata": {},
   "outputs": [],
   "source": []
  },
  {
   "cell_type": "code",
   "execution_count": null,
   "id": "2c4f9d21",
   "metadata": {},
   "outputs": [],
   "source": [
    "from infer_full import run\n",
    "\n",
    "data = run(dataset_name=dataset_name,\n",
    "            graphmodel=graphmodel,\n",
    "            num_batches=[4, 2, 2],\n",
    "           hidden_channels=hidden_channels,\n",
    "          num_layers=3)"
   ]
  },
  {
   "cell_type": "code",
   "execution_count": null,
   "id": "a2969f32-d053-4e8b-bc3c-2a3d5b760cf9",
   "metadata": {},
   "outputs": [],
   "source": []
  },
  {
   "cell_type": "code",
   "execution_count": null,
   "id": "bfc4f94e",
   "metadata": {
    "scrolled": true
   },
   "outputs": [],
   "source": [
    "from run_ogbn import run\n",
    "\n",
    "data = run(dataset_name, \n",
    "    graphmodel, \n",
    "    mode, \n",
    "    neighbor_sampling, \n",
    "    diffusion_param, \n",
    "    small_trainingset, \n",
    "    batch_size, \n",
    "    micro_batch, \n",
    "    num_batches, \n",
    "    {'ordered': False, 'sampled': False}, \n",
    "    part_topk, \n",
    "    reg, \n",
    "    hidden_channels, \n",
    "    inference=False, \n",
    "    LBMB_val=True,\n",
    "    cache_sub_adj = cache_sub_adj,\n",
    "    cache_origin_adj = cache_origin_adj,\n",
    "    ppr_params=None,\n",
    "    n_sampling_params=n_sampling_params,\n",
    "    rw_sampling_params=rw_sampling_params,\n",
    "    ladies_params=ladies_params,\n",
    "    epoch_min=0,\n",
    "    epoch_max=100,\n",
    "    patience=50,\n",
    "    num_layers=3, \n",
    "    heads=heads)"
   ]
  },
  {
   "cell_type": "markdown",
   "id": "a650082b-0f42-4d66-b113-bebeaf349768",
   "metadata": {},
   "source": [
    "Arxiv: 90941 29799 48603"
   ]
  },
  {
   "cell_type": "markdown",
   "id": "c4443535-ab9c-4356-a5ef-e76fa89b65af",
   "metadata": {},
   "source": [
    "Products: 195922 48981 2204126"
   ]
  },
  {
   "cell_type": "markdown",
   "id": "56b121b9-90e4-464e-b3c3-554d0cee1f74",
   "metadata": {},
   "source": [
    "Reddit: 153431 23831 55703"
   ]
  },
  {
   "cell_type": "code",
   "execution_count": null,
   "id": "50c7fbd8-774d-4b1b-8d3b-cec086e841c2",
   "metadata": {},
   "outputs": [],
   "source": []
  }
 ],
 "metadata": {
  "kernelspec": {
   "display_name": "Python 3 (ipykernel)",
   "language": "python",
   "name": "python3"
  },
  "language_info": {
   "codemirror_mode": {
    "name": "ipython",
    "version": 3
   },
   "file_extension": ".py",
   "mimetype": "text/x-python",
   "name": "python",
   "nbconvert_exporter": "python",
   "pygments_lexer": "ipython3",
   "version": "3.7.11"
  }
 },
 "nbformat": 4,
 "nbformat_minor": 5
}
