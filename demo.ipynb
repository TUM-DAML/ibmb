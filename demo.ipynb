{
 "cells": [
  {
   "cell_type": "markdown",
   "id": "1074f7d5-b4ce-45d5-a400-9ba3f16da4a2",
   "metadata": {},
   "source": [
    "# Datasets\n",
    "\n",
    "We mainly provide 3 datasets, ogbn-arxiv, ogbn-products and Reddit. For the large dataset ogbn-papers100M please see the other notebook. (TBA)\n",
    "\n",
    "The size of train / val / test splits are as following:\n",
    "\n",
    "| Dataset | Train | Val | Test |\n",
    "| --- | --- | --- | --- |\n",
    "|ogbn-arxiv | 90941 | 29799 | 48603 |\n",
    "|ogbn-products | 195922 | 48981 | 2204126 |\n",
    "|Reddit | 153431 | 23831 | 55703 |"
   ]
  },
  {
   "cell_type": "code",
   "execution_count": null,
   "id": "e78e2c83-1b48-4020-8423-c5feaa3a9fc7",
   "metadata": {},
   "outputs": [],
   "source": []
  },
  {
   "cell_type": "markdown",
   "id": "d92042ac-6e30-4ca5-9432-994bfab1954f",
   "metadata": {},
   "source": [
    "For the following demo, we run on ogbn-arxiv using GCN as the base model."
   ]
  },
  {
   "cell_type": "code",
   "execution_count": 2,
   "id": "2aff1165-8f0d-4086-a5ab-d205e7c4a42d",
   "metadata": {},
   "outputs": [],
   "source": [
    "dataset_name = 'arxiv'\n",
    "graphmodel = 'gcn'\n",
    "batch_order = {'ordered': True, 'sampled': False}  # choose the batches to be ordered with TSP, or sampled, or fully random"
   ]
  },
  {
   "cell_type": "markdown",
   "id": "2d62b20c-f885-4506-b1ca-b71283e4d126",
   "metadata": {},
   "source": [
    "# Batch-wise IBMB"
   ]
  },
  {
   "cell_type": "code",
   "execution_count": null,
   "id": "3d360b9f-5fd9-44dc-9bcb-ae12e171f7a3",
   "metadata": {},
   "outputs": [],
   "source": [
    "neighbor_sampling = 'batch_ppr'\n",
    "diffusion_param = 0.25  # for PPR calculation\n",
    "small_trainingset = 1.  # fraction of training nodes, if you want to use a subset of the training nodes, set it to (0, 1)\n",
    "batch_size = 1  # only for cluster-gcn, not to be modified\n",
    "micro_batch = 1  # how many mini batches before gradient update\n",
    "num_batches = [4, 2, 2]  # numbers of training / validation / test batches\n",
    "part_topk = [1, 1]  # fraction of number of (auxiliary nodes : partition size)\n",
    "ppr_params = None"
   ]
  },
  {
   "cell_type": "code",
   "execution_count": null,
   "id": "a2969f32-d053-4e8b-bc3c-2a3d5b760cf9",
   "metadata": {},
   "outputs": [],
   "source": []
  },
  {
   "cell_type": "markdown",
   "id": "7bb87731-a0b7-4cb2-951b-a593b163808b",
   "metadata": {},
   "source": [
    "# Node-wise IBMB"
   ]
  },
  {
   "cell_type": "code",
   "execution_count": null,
   "id": "1a8b25a5-a024-4067-83a8-537f9db48348",
   "metadata": {},
   "outputs": [],
   "source": [
    "ppr_params = {'neighbor_topk': 16,   # how many auxiliary nodes per primary node\n",
    "              'merge_max_size': None,   # how many auxiliary nodes per batch\n",
    "              'primes_per_batch': 9000,   # how many primary nodes per batch\n",
    "              'pushflowthresh': 2.e-4}"
   ]
  },
  {
   "cell_type": "code",
   "execution_count": null,
   "id": "05b82de3-61a8-4167-be4e-2cdeb5c91edb",
   "metadata": {},
   "outputs": [],
   "source": []
  },
  {
   "cell_type": "code",
   "execution_count": null,
   "id": "33bffd25-962a-4b45-b1f2-0abe51949e05",
   "metadata": {},
   "outputs": [],
   "source": []
  },
  {
   "cell_type": "markdown",
   "id": "d223bc63-7f39-475a-a06b-641e2f54105c",
   "metadata": {},
   "source": [
    "# Run the experiment"
   ]
  },
  {
   "cell_type": "code",
   "execution_count": null,
   "id": "bfc4f94e",
   "metadata": {
    "scrolled": true
   },
   "outputs": [],
   "source": [
    "from run_ogbn import run\n",
    "\n",
    "run_stats = run(dataset_name,\n",
    "                graphmodel,\n",
    "                mode,\n",
    "                neighbor_sampling,\n",
    "                diffusion_param,\n",
    "                small_trainingset,\n",
    "                batch_size,\n",
    "                micro_batch,\n",
    "                num_batches,\n",
    "                batch_order,\n",
    "                part_topk,\n",
    "                reg=1.e-4,\n",
    "                hidden_channels=256,\n",
    "                inference=True,\n",
    "                LBMB_val=True,\n",
    "                ppr_params=ppr_params)"
   ]
  },
  {
   "cell_type": "code",
   "execution_count": null,
   "id": "50c7fbd8-774d-4b1b-8d3b-cec086e841c2",
   "metadata": {},
   "outputs": [],
   "source": []
  }
 ],
 "metadata": {
  "kernelspec": {
   "display_name": "Python 3 (ipykernel)",
   "language": "python",
   "name": "python3"
  },
  "language_info": {
   "codemirror_mode": {
    "name": "ipython",
    "version": 3
   },
   "file_extension": ".py",
   "mimetype": "text/x-python",
   "name": "python",
   "nbconvert_exporter": "python",
   "pygments_lexer": "ipython3",
   "version": "3.8.12"
  }
 },
 "nbformat": 4,
 "nbformat_minor": 5
}
